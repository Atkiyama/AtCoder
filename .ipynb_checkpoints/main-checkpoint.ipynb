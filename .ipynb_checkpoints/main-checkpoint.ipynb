{
 "cells": [
  {
   "cell_type": "code",
   "execution_count": 15,
   "id": "9b8f378d",
   "metadata": {},
   "outputs": [
    {
     "name": "stdout",
     "output_type": "stream",
     "text": [
      "3 5\n",
      "ooxoo\n",
      "ooxoo\n",
      "ooxoo\n",
      "x\n",
      "2\n"
     ]
    }
   ],
   "source": [
    "def main():\n",
    "    N,D = map(int, input().split())\n",
    "    S = []\n",
    "    max = 0\n",
    "    play = 0\n",
    "    for i in range(0,N):\n",
    "        S.append(input())\n",
    "        \n",
    "    for i in range(0,D):\n",
    "        flag=True\n",
    "        for j in range(0,N):\n",
    "            if S[j][i]!='o':\n",
    "                print(S[j][i])\n",
    "                flag=False\n",
    "                break\n",
    "       \n",
    "        if flag:\n",
    "            play+=1\n",
    "        else:\n",
    "            if max < play:\n",
    "                max = play\n",
    "                play=0\n",
    "    \n",
    "    if max < play:\n",
    "            max = play\n",
    "            play=0\n",
    "    print(max)\n",
    "            \n",
    "#MAX=1でplay1で次にxのときにうまく更新できていない\n",
    "#\n",
    "    \n",
    "if __name__ == \"__main__\":\n",
    "    main()"
   ]
  },
  {
   "cell_type": "code",
   "execution_count": null,
   "id": "e2b06f95",
   "metadata": {},
   "outputs": [],
   "source": [
    "3 6\n",
    "ooxooo\n",
    "ooxooo\n",
    "ooxooo"
   ]
  },
  {
   "cell_type": "code",
   "execution_count": null,
   "id": "bd827d60",
   "metadata": {},
   "outputs": [],
   "source": []
  },
  {
   "cell_type": "code",
   "execution_count": null,
   "id": "e6f5d5a1",
   "metadata": {},
   "outputs": [],
   "source": []
  }
 ],
 "metadata": {
  "kernelspec": {
   "display_name": "Python 3 (ipykernel)",
   "language": "python",
   "name": "python3"
  },
  "language_info": {
   "codemirror_mode": {
    "name": "ipython",
    "version": 3
   },
   "file_extension": ".py",
   "mimetype": "text/x-python",
   "name": "python",
   "nbconvert_exporter": "python",
   "pygments_lexer": "ipython3",
   "version": "3.9.7"
  }
 },
 "nbformat": 4,
 "nbformat_minor": 5
}
